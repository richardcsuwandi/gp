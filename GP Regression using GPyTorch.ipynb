{
 "cells": [
  {
   "cell_type": "markdown",
   "id": "artificial-shore",
   "metadata": {},
   "source": [
    "# Gaussian Process (GP) Regression using GPyTorch\n",
    "\n",
    "Author: [Richard Cornelius Suwandi](https://richardcsuwandi.github.io)\n",
    "\n",
    "In this tutorial, I'm going to demonstrate how to perform Gaussian Process (GP) regression using GPyTorch. \n",
    "[GPytorch](https://github.com/cornellius-gp/gpytorch) is a Gaussian process library implemented using PyTorch that is designed for creating scalable and flexible, and modular GP models. You can learn more about GPyTorch on their [official website](https://gpytorch.ai)."
   ]
  },
  {
   "cell_type": "markdown",
   "id": "behavioral-dietary",
   "metadata": {},
   "source": [
    "## Setup\n",
    "Let's first import the necessary libraries for this tutorial. If you haven't installed `gpytorch`, you can install it either using pip or conda:\n",
    "\n",
    "```bash\n",
    "pip install gpytorch\n",
    "conda install gpytorch -c gpytorch\n",
    "```\n",
    "You can also check the requirements and installation instructions on their website [here](https://gpytorch.ai/#install)."
   ]
  },
  {
   "cell_type": "code",
   "execution_count": 1,
   "id": "standing-problem",
   "metadata": {},
   "outputs": [],
   "source": [
    "# Import the necessary libraries\n",
    "import math\n",
    "from matplotlib import pyplot as plt\n",
    "import torch\n",
    "import gpytorch"
   ]
  },
  {
   "cell_type": "markdown",
   "id": "spare-tunnel",
   "metadata": {},
   "source": [
    "## Generating the data\n",
    "Next, we need to generate a training data for our model. We will be modeling the following function:\n",
    "\n",
    "\\begin{align}\n",
    "    y = \\sin{(2 \\pi x)} + \\epsilon, \\enspace \\epsilon \\sim \\mathcal{N}(0, 0.04)\n",
    "\\end{align}\n",
    "where $\\epsilon$ is the Gaussian noise. We will evaluate the above function on 15 equally-spaced points from $[0,1]$:"
   ]
  },
  {
   "cell_type": "code",
   "execution_count": 13,
   "id": "friendly-factor",
   "metadata": {},
   "outputs": [
    {
     "data": {
      "text/plain": [
       "[<matplotlib.lines.Line2D at 0x1a5432e0bb0>]"
      ]
     },
     "execution_count": 13,
     "metadata": {},
     "output_type": "execute_result"
    },
    {
     "data": {
      "image/png": "[encoded data removed]",
      "text/plain": [
       "<Figure size 432x288 with 1 Axes>"
      ]
     },
     "metadata": {
      "needs_background": "light"
     },
     "output_type": "display_data"
    }
   ],
   "source": [
    "# The training data is 15 equally-spaced points from [0,1] \n",
    "x_train = torch.linspace(0, 1, 15)\n",
    "\n",
    "# The true function is sin(2*pi*x) with Gaussian noise N(0, 0.04)\n",
    "y_train = torch.sin(x_train * (2 * math.pi)) + torch.randn(x_train.size()) * math.sqrt(0.04)\n",
    "\n",
    "# Plot training data as black stars\n",
    "plt.plot(x_train.numpy(), y_train.numpy(), 'k*')"
   ]
  },
  {
   "cell_type": "markdown",
   "id": "checked-municipality",
   "metadata": {},
   "source": [
    "## Building the model\n",
    "GPyTorch offers a flexible way for us to build GP models, by constructing the components of the model by ourselves. This is analogous to building neural networks in the standard PyTorch library. For most GP regression models, you will need to construct the following components:\n",
    "1. **A GP Model**: For exact (i.e. non-variational) GP models we will use `gpytorch.models.ExactGP`\n",
    "2. **A likelihood function**: The likelihood function for GP regression, we commonly use `gpytorch.likelihoods.GaussianLikelihood`.\n",
    "3. **A mean function**: The prior mean of the GP. If you don't know which mean to use, `gpytorch.means.ConstantMean()` is usually a good place to start.\n",
    "4. **A kernel function**: The prior covariance of the GP. We'll use the [Spectral Mixture (SM) kernel](https://arxiv.org/pdf/1302.4245.pdf) (`gpytorch.kernels.SpectralMixtureKernel()`) for this tutorial.\n",
    "5. **A multivariate normal distribution**: An object to represent the multivariate normal distribution (`gpytorch.distributions.MultivariateNormal`)\n",
    "\n",
    "Now, let's build our GP model by constructing its components:"
   ]
  },
  {
   "cell_type": "code",
   "execution_count": 6,
   "id": "roman-belgium",
   "metadata": {},
   "outputs": [],
   "source": [
    "# A GP model with constant mean function and spectral mixture (SM) kernel\n",
    "class SpectralMixtureGP(gpytorch.models.ExactGP):\n",
    "    def __init__(self, x_train, y_train, likelihood):\n",
    "        super(SpectralMixtureGP, self).__init__(x_train, y_train, likelihood)\n",
    "        self.mean = gpytorch.means.ConstantMean() # Construct the mean function\n",
    "        self.cov = gpytorch.kernels.SpectralMixtureKernel(num_mixtures=4) # Construct the kernel function\n",
    "        self.cov.initialize_from_data(x_train, y_train) # Initialize the hyperparameters from data\n",
    "        \n",
    "    def forward(self, x):\n",
    "        # Evaluate the mean and kernel function at x\n",
    "        mean_x = self.mean(x)\n",
    "        cov_x = self.cov(x)\n",
    "        # Return the multivariate normal distribution using the evaluated mean and kernel function\n",
    "        return gpytorch.distributions.MultivariateNormal(mean_x, cov_x) \n",
    "        \n",
    "# Initialize the likelihood and model\n",
    "likelihood = gpytorch.likelihoods.GaussianLikelihood()\n",
    "model = SpectralMixtureGP(x_train, y_train, likelihood)"
   ]
  },
  {
   "cell_type": "markdown",
   "id": "bound-grass",
   "metadata": {},
   "source": [
    "## Training the model\n",
    "Now that we have built the model, we can train the model to find the optimal hyperparameters. Training a GP model in GPyTorch is also analogous to training a neural network in the standard PyTorch library. The training loop mainly consists of the following steps:\n",
    "1. Setting all the parameter gradients to zero\n",
    "2. Calling the model and computing the loss\n",
    "3. Calling backward on the loss to fill in gradients\n",
    "4. Taking a step on the optimizer"
   ]
  },
  {
   "cell_type": "code",
   "execution_count": 7,
   "id": "living-daniel",
   "metadata": {},
   "outputs": [
    {
     "name": "stdout",
     "output_type": "stream",
     "text": [
      "Iter 1/50 - Loss: 1.276\n",
      "Iter 2/50 - Loss: 1.243\n",
      "Iter 3/50 - Loss: 1.214\n",
      "Iter 4/50 - Loss: 1.183\n",
      "Iter 5/50 - Loss: 1.151\n",
      "Iter 6/50 - Loss: 1.123\n",
      "Iter 7/50 - Loss: 1.095\n",
      "Iter 8/50 - Loss: 1.069\n",
      "Iter 9/50 - Loss: 1.043\n",
      "Iter 10/50 - Loss: 1.019\n",
      "Iter 11/50 - Loss: 0.997\n",
      "Iter 12/50 - Loss: 0.977\n",
      "Iter 13/50 - Loss: 0.955\n",
      "Iter 14/50 - Loss: 0.934\n",
      "Iter 15/50 - Loss: 0.912\n",
      "Iter 16/50 - Loss: 0.889\n",
      "Iter 17/50 - Loss: 0.862\n",
      "Iter 18/50 - Loss: 0.832\n",
      "Iter 19/50 - Loss: 0.799\n",
      "Iter 20/50 - Loss: 0.763\n",
      "Iter 21/50 - Loss: 0.725\n",
      "Iter 22/50 - Loss: 0.685\n",
      "Iter 23/50 - Loss: 0.645\n",
      "Iter 24/50 - Loss: 0.605\n",
      "Iter 25/50 - Loss: 0.565\n",
      "Iter 26/50 - Loss: 0.528\n",
      "Iter 27/50 - Loss: 0.493\n",
      "Iter 28/50 - Loss: 0.462\n",
      "Iter 29/50 - Loss: 0.435\n",
      "Iter 30/50 - Loss: 0.411\n",
      "Iter 31/50 - Loss: 0.392\n",
      "Iter 32/50 - Loss: 0.377\n",
      "Iter 33/50 - Loss: 0.362\n",
      "Iter 34/50 - Loss: 0.347\n",
      "Iter 35/50 - Loss: 0.332\n",
      "Iter 36/50 - Loss: 0.317\n",
      "Iter 37/50 - Loss: 0.305\n",
      "Iter 38/50 - Loss: 0.296\n",
      "Iter 39/50 - Loss: 0.290\n",
      "Iter 40/50 - Loss: 0.286\n",
      "Iter 41/50 - Loss: 0.280\n",
      "Iter 42/50 - Loss: 0.274\n",
      "Iter 43/50 - Loss: 0.264\n",
      "Iter 44/50 - Loss: 0.250\n",
      "Iter 45/50 - Loss: 0.233\n",
      "Iter 46/50 - Loss: 0.213\n",
      "Iter 47/50 - Loss: 0.191\n",
      "Iter 48/50 - Loss: 0.170\n",
      "Iter 49/50 - Loss: 0.151\n",
      "Iter 50/50 - Loss: 0.129\n"
     ]
    }
   ],
   "source": [
    "# Put the model into training mode\n",
    "model.train()\n",
    "likelihood.train()\n",
    "\n",
    "# Use the Adam optimizer, with learning rate set to 0.1\n",
    "optimizer = torch.optim.Adam(model.parameters(), lr=0.1)\n",
    "\n",
    "# Use the negative marginal log-likelihood as the loss function\n",
    "mll = gpytorch.mlls.ExactMarginalLogLikelihood(likelihood, model)\n",
    "\n",
    "# Set the number of training iterations\n",
    "n_iter = 50\n",
    "\n",
    "for i in range(n_iter):\n",
    "    # Set the gradients from previous iteration to zero\n",
    "    optimizer.zero_grad()\n",
    "    # Output from model\n",
    "    output = model(x_train)\n",
    "    # Compute loss and backprop gradients\n",
    "    loss = -mll(output, y_train)\n",
    "    loss.backward()\n",
    "    print('Iter %d/%d - Loss: %.3f' % (i + 1, n_iter, loss.item()))\n",
    "    optimizer.step()"
   ]
  },
  {
   "cell_type": "markdown",
   "id": "solved-belly",
   "metadata": {},
   "source": [
    "## Making predictions with the model\n",
    "Next, we can make predicitions with the model by putting the model and likelihood in eval mode. We will evaluate the model using 50 equally-spaced points from $[0, 5]$ as our test data:"
   ]
  },
  {
   "cell_type": "code",
   "execution_count": 18,
   "id": "metropolitan-potato",
   "metadata": {
    "scrolled": true
   },
   "outputs": [
    {
     "data": {
      "image/png": "[encoded data removed]",
      "text/plain": [
       "<Figure size 576x432 with 1 Axes>"
      ]
     },
     "metadata": {
      "needs_background": "light"
     },
     "output_type": "display_data"
    }
   ],
   "source": [
    "# The test data is 50 equally-spaced points from [0,5]\n",
    "x_test = torch.linspace(0, 5, 50)\n",
    "\n",
    "# Put the model into evaluation mode\n",
    "model.eval()\n",
    "likelihood.eval()\n",
    "\n",
    "# The gpytorch.settings.fast_pred_var flag activates LOVE (for fast variances)\n",
    "# See https://arxiv.org/abs/1803.06058\n",
    "with torch.no_grad(), gpytorch.settings.fast_pred_var():\n",
    "    # Obtain the predictive mean and covariance matrix\n",
    "    f_preds = model(x_test)\n",
    "    f_mean = f_preds.mean\n",
    "    f_cov = f_preds.covariance_matrix\n",
    "    \n",
    "    # Make predictions by feeding model through likelihood\n",
    "    observed_pred = likelihood(model(x_test))\n",
    "    \n",
    "    # Initialize plot\n",
    "    f, ax = plt.subplots(1, 1, figsize=(8, 6))\n",
    "    # Get upper and lower confidence bounds\n",
    "    lower, upper = observed_pred.confidence_region()\n",
    "    # Plot training data as black stars\n",
    "    ax.plot(x_train.numpy(), y_train.numpy(), 'k*')\n",
    "    # Plot predictive means as blue line\n",
    "    ax.plot(x_test.numpy(), observed_pred.mean.numpy(), 'b')\n",
    "    # Shade between the lower and upper confidence bounds\n",
    "    ax.fill_between(x_test.numpy(), lower.numpy(), upper.numpy(), alpha=0.5)\n",
    "    ax.set_ylim([-3, 3])\n",
    "    ax.legend(['Observed Data', 'Mean', 'Confidence'])"
   ]
  },
  {
   "cell_type": "markdown",
   "id": "official-northeast",
   "metadata": {},
   "source": [
    "The black stars in the above plot represent the training (observed) data, while the blue line and the shaded area represent the mean and the confidence bounds respectively. Notice how the uncertainty is reduced close to the observed points. If more data points were added, we would see the mean function adjust itself to pass through these points and the uncertainty would reduce close to the observations."
   ]
  }
 ],
 "metadata": {
  "kernelspec": {
   "display_name": "gpytorch",
   "language": "python",
   "name": "gpytorch"
  },
  "language_info": {
   "codemirror_mode": {
    "name": "ipython",
    "version": 3
   },
   "file_extension": ".py",
   "mimetype": "text/x-python",
   "name": "python",
   "nbconvert_exporter": "python",
   "pygments_lexer": "ipython3",
   "version": "3.9.7"
  }
 },
 "nbformat": 4,
 "nbformat_minor": 5
}
